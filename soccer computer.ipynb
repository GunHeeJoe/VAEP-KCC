{
 "cells": [
  {
   "attachments": {},
   "cell_type": "markdown",
   "metadata": {},
   "source": [
    "# Statsbomb를 Feature, Label를 정의하기"
   ]
  },
  {
   "cell_type": "code",
   "execution_count": 1,
   "metadata": {},
   "outputs": [],
   "source": [
    "import os\n",
    "import warnings\n",
    "import tqdm\n",
    "import pandas as pd\n",
    "warnings.simplefilter(action='ignore', category=pd.errors.PerformanceWarning)"
   ]
  },
  {
   "cell_type": "code",
   "execution_count": 2,
   "metadata": {},
   "outputs": [],
   "source": [
    "%load_ext autoreload\n",
    "%autoreload 2\n",
    "import socceraction.spadl as spadl\n",
    "import socceraction.vaep.features as fs\n",
    "import socceraction.vaep.labels as lab"
   ]
  },
  {
   "attachments": {},
   "cell_type": "markdown",
   "metadata": {},
   "source": [
    "### Train, Valid, Test 데이터의 SPADL, Feature, Label 정의하기"
   ]
  },
  {
   "cell_type": "code",
   "execution_count": 3,
   "metadata": {},
   "outputs": [],
   "source": [
    "datafolder = \"./data-fifa/La Liga\"\n",
    "#0은 train, 1은 valid, 2은 test\n",
    "\n",
    "spadl0_h5 = os.path.join(datafolder, \"spadl-statsbomb_train_competitions.h5\")\n",
    "features0_h5 = os.path.join(datafolder, \"features_train.h5\")\n",
    "labels0_h5 = os.path.join(datafolder, \"labels_train.h5\")\n",
    "\n",
    "spadl1_h5 = os.path.join(datafolder, \"spadl-statsbomb_valid_competitions.h5\")\n",
    "features1_h5 = os.path.join(datafolder, \"features_valid.h5\")\n",
    "labels1_h5 = os.path.join(datafolder, \"labels_valid.h5\")\n",
    "\n",
    "spadl2_h5 = os.path.join(datafolder, \"spadl-statsbomb_test_competitions.h5\")\n",
    "features2_h5 = os.path.join(datafolder, \"features_test.h5\")\n",
    "labels2_h5 = os.path.join(datafolder, \"labels_test.h5\")"
   ]
  },
  {
   "cell_type": "code",
   "execution_count": 4,
   "metadata": {},
   "outputs": [
    {
     "name": "stdout",
     "output_type": "stream",
     "text": [
      "nb of games: 452\n",
      "nb of games: 33\n",
      "nb of games: 35\n"
     ]
    }
   ],
   "source": [
    "train_games = pd.read_hdf(spadl0_h5, \"games\")\n",
    "print(\"nb of games:\", len(train_games))\n",
    "\n",
    "valid_games = pd.read_hdf(spadl1_h5, \"games\")\n",
    "print(\"nb of games:\", len(valid_games))\n",
    "\n",
    "test_games = pd.read_hdf(spadl2_h5, \"games\")\n",
    "print(\"nb of games:\", len(test_games))"
   ]
  },
  {
   "cell_type": "code",
   "execution_count": 5,
   "metadata": {},
   "outputs": [
    {
     "data": {
      "text/plain": [
       "((452, 12), (33, 12), (35, 12))"
      ]
     },
     "execution_count": 5,
     "metadata": {},
     "output_type": "execute_result"
    }
   ],
   "source": [
    "train_games.shape, valid_games.shape, test_games.shape"
   ]
  },
  {
   "cell_type": "code",
   "execution_count": 8,
   "metadata": {},
   "outputs": [],
   "source": [
    "#Select feature set X\n",
    "\n",
    "xfns = [\n",
    "    fs.actiontype,\n",
    "    fs.actiontype_onehot,\n",
    "    \n",
    "    #foot, head, head/other, other\n",
    "    #foot중 왼/오른발 구분은 bodypart에서 하지 않음\n",
    "    fs.bodypart,\n",
    "    fs.bodypart_onehot,\n",
    "    \n",
    "    #각 수행한 액션의 왼/ 오른발로 구분함\n",
    "    # fs.bodypart_detailed,\n",
    "    # fs.bodypart_detailed_onehot,\n",
    "    \n",
    "    fs.result,\n",
    "    fs.result_onehot,\n",
    "    \n",
    "    #goalscore_team, goalscore_opponent, goalscore_diff 3개의 feature를 불러옴\n",
    "    fs.goalscore,\n",
    "    \n",
    "    #action type-result사이의 원핫인코딩\n",
    "    # fs.actiontype_result_onehot,\n",
    "    \n",
    "    \n",
    "    #action의 시작, 끝 위치\n",
    "    fs.startlocation,\n",
    "    fs.endlocation,\n",
    "    \n",
    "    #movement는 x좌표변화량, y좌표변화량\n",
    "    fs.movement,\n",
    "    \n",
    "    #space_delta는 (x,y)좌표의 변화량\n",
    "    fs.space_delta,\n",
    "    \n",
    "    #startlocation, endloaction에서 goal까지 거리랑 각도\n",
    "    fs.startpolar,\n",
    "    fs.endpolar,\n",
    "    \n",
    "    #home인지 away인지\n",
    "    fs.team,\n",
    "    \n",
    "    #time : 3가지 feature가 나옴\n",
    "    #1.period_id = 전반1 / 후반2\n",
    "    #2.time_seconds = 전/후반의 시작 후에 time\n",
    "    #3.time_seconds_overall = 게임시작후 초\n",
    "    # fs.time,\n",
    "    \n",
    "    #time_delta1 = 현 action time_seconds - 전 action time_seconds\n",
    "    #time_delta2 = 현 action time_seconds - 전전 action time_seconds\n",
    "    fs.time_delta,\n",
    "    \n",
    "]"
   ]
  },
  {
   "attachments": {},
   "cell_type": "markdown",
   "metadata": {},
   "source": [
    "### train 데이터 feature, label 처리하기"
   ]
  },
  {
   "cell_type": "code",
   "execution_count": 31,
   "metadata": {},
   "outputs": [
    {
     "name": "stderr",
     "output_type": "stream",
     "text": [
      "Generating and storing features in ./data-fifa/La Liga\\features_train.h5: 100%|██████████| 452/452 [01:01<00:00,  7.40it/s]\n",
      "Computing and storing labels in ./data-fifa/La Liga\\labels_train.h5: 100%|██████████| 452/452 [00:51<00:00,  8.70it/s]\n"
     ]
    }
   ],
   "source": [
    "for game in tqdm.tqdm(list(train_games.itertuples()), desc=f\"Generating and storing features in {features0_h5}\"):\n",
    "    actions = pd.read_hdf(spadl0_h5, f\"actions/game_{game.game_id}\")\n",
    "    gamestates = fs.gamestates(spadl.add_names(actions), 3)\n",
    "    gamestates = fs.play_left_to_right(gamestates, game.home_team_id)\n",
    "\n",
    "    X = pd.concat([fn(gamestates) for fn in xfns], axis=1)\n",
    "\n",
    "    X.to_hdf(features0_h5, f\"game_{game.game_id}\")\n",
    "    \n",
    "yfns = [lab.scores, lab.concedes, lab.goal_from_shot]\n",
    "\n",
    "for game in tqdm.tqdm(list(train_games.itertuples()), desc=f\"Computing and storing labels in {labels0_h5}\"):\n",
    "    actions = pd.read_hdf(spadl0_h5, f\"actions/game_{game.game_id}\")   \n",
    "    Y = pd.concat([fn(spadl.add_names(actions)) for fn in yfns], axis=1)\n",
    "    Y.to_hdf(labels0_h5, f\"game_{game.game_id}\")"
   ]
  },
  {
   "attachments": {},
   "cell_type": "markdown",
   "metadata": {},
   "source": [
    "### valid데이터 feature, label 처리하기"
   ]
  },
  {
   "cell_type": "code",
   "execution_count": 32,
   "metadata": {},
   "outputs": [
    {
     "name": "stderr",
     "output_type": "stream",
     "text": [
      "Generating and storing features in ./data-fifa/La Liga\\features_valid.h5: 100%|██████████| 33/33 [00:03<00:00, 10.65it/s]\n",
      "Computing and storing labels in ./data-fifa/La Liga\\labels_valid.h5: 100%|██████████| 33/33 [00:03<00:00, 10.50it/s]\n"
     ]
    }
   ],
   "source": [
    "for game in tqdm.tqdm(list(valid_games.itertuples()), desc=f\"Generating and storing features in {features1_h5}\"):\n",
    "    actions = pd.read_hdf(spadl1_h5, f\"actions/game_{game.game_id}\")\n",
    "    gamestates = fs.gamestates(spadl.add_names(actions), 3)\n",
    "    gamestates = fs.play_left_to_right(gamestates, game.home_team_id)\n",
    "    \n",
    "    X = pd.concat([fn(gamestates) for fn in xfns], axis=1)\n",
    "    X.to_hdf(features1_h5, f\"game_{game.game_id}\")\n",
    "    \n",
    "yfns = [lab.scores, lab.concedes, lab.goal_from_shot]\n",
    "\n",
    "for game in tqdm.tqdm(list(valid_games.itertuples()), desc=f\"Computing and storing labels in {labels1_h5}\"):\n",
    "    actions = pd.read_hdf(spadl1_h5, f\"actions/game_{game.game_id}\")   \n",
    "    Y = pd.concat([fn(spadl.add_names(actions)) for fn in yfns], axis=1)\n",
    "    Y.to_hdf(labels1_h5, f\"game_{game.game_id}\")"
   ]
  },
  {
   "attachments": {},
   "cell_type": "markdown",
   "metadata": {},
   "source": [
    "### test데이터 feature, label 처리하기"
   ]
  },
  {
   "cell_type": "code",
   "execution_count": 14,
   "metadata": {},
   "outputs": [
    {
     "name": "stderr",
     "output_type": "stream",
     "text": [
      "Generating and storing features in ./data-fifa/La Liga\\features_test.h5: 100%|██████████| 35/35 [00:03<00:00, 11.00it/s]\n",
      "Computing and storing labels in ./data-fifa/La Liga\\labels_test.h5: 100%|██████████| 35/35 [00:02<00:00, 11.92it/s]"
     ]
    },
    {
     "name": "stdout",
     "output_type": "stream",
     "text": [
      "3773689\n"
     ]
    },
    {
     "name": "stderr",
     "output_type": "stream",
     "text": [
      "\n"
     ]
    }
   ],
   "source": [
    "for game in tqdm.tqdm(list(test_games.itertuples()), desc=f\"Generating and storing features in {features2_h5}\"):\n",
    "    actions = pd.read_hdf(spadl2_h5, f\"actions/game_{game.game_id}\")\n",
    "    gamestates = fs.gamestates(spadl.add_names(actions), 3)\n",
    "    gamestates = fs.play_left_to_right(gamestates, game.home_team_id)\n",
    "    \n",
    "    X = pd.concat([fn(gamestates) for fn in xfns], axis=1)\n",
    "    X.to_hdf(features2_h5, f\"game_{game.game_id}\")\n",
    "    \n",
    "yfns = [lab.scores, lab.concedes, lab.goal_from_shot]\n",
    "\n",
    "for game in tqdm.tqdm(list(test_games.itertuples()), desc=f\"Computing and storing labels in {labels2_h5}\"):\n",
    "    actions = pd.read_hdf(spadl2_h5, f\"actions/game_{game.game_id}\")   \n",
    "    Y = pd.concat([fn(spadl.add_names(actions)) for fn in yfns], axis=1)\n",
    "    Y.to_hdf(labels2_h5, f\"game_{game.game_id}\")"
   ]
  },
  {
   "cell_type": "code",
   "execution_count": 20,
   "metadata": {},
   "outputs": [
    {
     "name": "stderr",
     "output_type": "stream",
     "text": [
      "Generating and storing features in ./data-fifa/La Liga\\features_test.h5: 100%|██████████| 35/35 [00:00<00:00, 115.29it/s]"
     ]
    },
    {
     "name": "stdout",
     "output_type": "stream",
     "text": [
      "3773689\n"
     ]
    },
    {
     "name": "stderr",
     "output_type": "stream",
     "text": [
      "\n"
     ]
    }
   ],
   "source": [
    "for game in tqdm.tqdm(list(test_games.itertuples()), desc=f\"Generating and storing features in {features2_h5}\"):\n",
    "    actions = pd.read_hdf(spadl2_h5, f\"actions/game_{game.game_id}\")\n",
    "    #test데이터 사용시에는 실제로 해당 경기 game_id는 제거하고 사용\n",
    "    if actions.game_id[0]==3773689:\n",
    "         print(actions.game_id[0])"
   ]
  }
 ],
 "metadata": {
  "kernelspec": {
   "display_name": "base",
   "language": "python",
   "name": "python3"
  },
  "language_info": {
   "codemirror_mode": {
    "name": "ipython",
    "version": 3
   },
   "file_extension": ".py",
   "mimetype": "text/x-python",
   "name": "python",
   "nbconvert_exporter": "python",
   "pygments_lexer": "ipython3",
   "version": "3.10.11"
  },
  "orig_nbformat": 4,
  "vscode": {
   "interpreter": {
    "hash": "7e11559585671b6ea0e062e4c69e511eac2837c082bc5a0530b68ddc7f355068"
   }
  }
 },
 "nbformat": 4,
 "nbformat_minor": 2
}
