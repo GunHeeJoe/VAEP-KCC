{
 "cells": [
  {
   "attachments": {},
   "cell_type": "markdown",
   "metadata": {},
   "source": [
    "# statsbomb를 feature, label를 정의하기"
   ]
  },
  {
   "cell_type": "code",
   "execution_count": 2,
   "metadata": {},
   "outputs": [],
   "source": [
    "import os\n",
    "import warnings\n",
    "import tqdm\n",
    "import pandas as pd\n",
    "warnings.simplefilter(action='ignore', category=pd.errors.PerformanceWarning)"
   ]
  },
  {
   "cell_type": "code",
   "execution_count": 3,
   "metadata": {},
   "outputs": [
    {
     "data": {
      "text/plain": [
       "scores  concedes\n",
       "False   False       983349\n",
       "True    False        13272\n",
       "False   True          2159\n",
       "Name: count, dtype: int64"
      ]
     },
     "execution_count": 3,
     "metadata": {},
     "output_type": "execute_result"
    }
   ],
   "source": [
    "pd.read_csv('./soccer_binary_data/train/Y_train',index_col=0).value_counts()"
   ]
  },
  {
   "cell_type": "code",
   "execution_count": 4,
   "metadata": {},
   "outputs": [
    {
     "data": {
      "text/plain": [
       "scores  concedes\n",
       "False   False       74776\n",
       "True    False         858\n",
       "False   True          152\n",
       "Name: count, dtype: int64"
      ]
     },
     "execution_count": 4,
     "metadata": {},
     "output_type": "execute_result"
    }
   ],
   "source": [
    "pd.read_csv('./soccer_binary_data/valid/Y_valid',index_col=0).value_counts()"
   ]
  },
  {
   "cell_type": "code",
   "execution_count": 6,
   "metadata": {},
   "outputs": [
    {
     "data": {
      "text/plain": [
       "(79812, 154)"
      ]
     },
     "execution_count": 6,
     "metadata": {},
     "output_type": "execute_result"
    }
   ],
   "source": [
    "pd.read_csv('./soccer_binary_data/test/X_test',index_col=0).shape"
   ]
  },
  {
   "cell_type": "code",
   "execution_count": 5,
   "metadata": {},
   "outputs": [
    {
     "data": {
      "text/plain": [
       "scores  concedes\n",
       "False   False       78735\n",
       "True    False         940\n",
       "False   True          137\n",
       "Name: count, dtype: int64"
      ]
     },
     "execution_count": 5,
     "metadata": {},
     "output_type": "execute_result"
    }
   ],
   "source": [
    "pd.read_csv('./soccer_binary_data/test/Y_test',index_col=0).value_counts()"
   ]
  },
  {
   "cell_type": "code",
   "execution_count": 38,
   "metadata": {},
   "outputs": [
    {
     "name": "stdout",
     "output_type": "stream",
     "text": [
      "The autoreload extension is already loaded. To reload it, use:\n",
      "  %reload_ext autoreload\n"
     ]
    }
   ],
   "source": [
    "%load_ext autoreload\n",
    "%autoreload 2\n",
    "import socceraction.spadl as spadl\n",
    "import socceraction.vaep.features as fs\n",
    "import socceraction.vaep.labels as lab"
   ]
  },
  {
   "attachments": {},
   "cell_type": "markdown",
   "metadata": {},
   "source": [
    "### train, valid, test 데이터의 spadl, feature, label 정의하기"
   ]
  },
  {
   "cell_type": "code",
   "execution_count": 39,
   "metadata": {},
   "outputs": [],
   "source": [
    "datafolder = \"./data-fifa/La Liga\"\n",
    "#0은 train, 1은 valid, 2은 test\n",
    "\n",
    "spadl0_h5 = os.path.join(datafolder, \"spadl-statsbomb_train_competitions.h5\")\n",
    "features0_h5 = os.path.join(datafolder, \"features_train.h5\")\n",
    "labels0_h5 = os.path.join(datafolder, \"labels_train.h5\")\n",
    "\n",
    "spadl1_h5 = os.path.join(datafolder, \"spadl-statsbomb_valid_competitions.h5\")\n",
    "features1_h5 = os.path.join(datafolder, \"features_valid.h5\")\n",
    "labels1_h5 = os.path.join(datafolder, \"labels_valid.h5\")\n",
    "\n",
    "spadl2_h5 = os.path.join(datafolder, \"spadl-statsbomb_test_competitions.h5\")\n",
    "features2_h5 = os.path.join(datafolder, \"features_test.h5\")\n",
    "labels2_h5 = os.path.join(datafolder, \"labels_test.h5\")"
   ]
  },
  {
   "cell_type": "code",
   "execution_count": 40,
   "metadata": {},
   "outputs": [
    {
     "name": "stdout",
     "output_type": "stream",
     "text": [
      "nb of games: 452\n",
      "nb of games: 33\n",
      "nb of games: 35\n"
     ]
    }
   ],
   "source": [
    "train_games = pd.read_hdf(spadl0_h5, \"games\")\n",
    "print(\"nb of games:\", len(train_games))\n",
    "\n",
    "valid_games = pd.read_hdf(spadl1_h5, \"games\")\n",
    "print(\"nb of games:\", len(valid_games))\n",
    "\n",
    "test_games = pd.read_hdf(spadl2_h5, \"games\")\n",
    "print(\"nb of games:\", len(test_games))"
   ]
  },
  {
   "cell_type": "code",
   "execution_count": 28,
   "metadata": {},
   "outputs": [
    {
     "data": {
      "text/plain": [
       "((452, 12), (33, 12), (35, 12))"
      ]
     },
     "execution_count": 28,
     "metadata": {},
     "output_type": "execute_result"
    }
   ],
   "source": [
    "train_games.shape, valid_games.shape, test_games.shape"
   ]
  },
  {
   "cell_type": "code",
   "execution_count": 29,
   "metadata": {},
   "outputs": [],
   "source": [
    "# xfns = [\n",
    "#     fs.actiontype,\n",
    "#     fs.actiontype_onehot,\n",
    "#     fs.bodypart,\n",
    "#     fs.bodypart_onehot,\n",
    "#     fs.result,\n",
    "#     fs.result_onehot,\n",
    "#     fs.goalscore,\n",
    "#     fs.startlocation,\n",
    "#     fs.endlocation,\n",
    "#     fs.movement,\n",
    "#     fs.space_delta,\n",
    "#     fs.startpolar,\n",
    "#     fs.endpolar,\n",
    "#     fs.team,\n",
    "#     fs.time,\n",
    "#     fs.time_delta\n",
    "# ]"
   ]
  },
  {
   "cell_type": "code",
   "execution_count": 30,
   "metadata": {},
   "outputs": [],
   "source": [
    "#Select feature set X\n",
    "\n",
    "xfns = [\n",
    "    fs.actiontype,\n",
    "    fs.actiontype_onehot,\n",
    "    \n",
    "    #foot, head, head/other, other\n",
    "    #foot중 왼/오른발 구분은 bodypart에서 하지 않음\n",
    "    fs.bodypart,\n",
    "    fs.bodypart_onehot,\n",
    "    \n",
    "    #각 수행한 액션의 왼/ 오른발로 구분함\n",
    "    # fs.bodypart_detailed,\n",
    "    # fs.bodypart_detailed_onehot,\n",
    "    \n",
    "    fs.result,\n",
    "    fs.result_onehot,\n",
    "    \n",
    "    #goalscore_team, goalscore_opponent, goalscore_diff 3개의 feature를 불러옴\n",
    "    fs.goalscore,\n",
    "    \n",
    "    #action type and result사이의 원핫인코딩값?\n",
    "    # fs.actiontype_result_onehot,\n",
    "    \n",
    "    \n",
    "    #action의 시작, 끝 위치\n",
    "    fs.startlocation,\n",
    "    fs.endlocation,\n",
    "    \n",
    "    #movement는 x좌표변화량, y좌표변화량\n",
    "    fs.movement,\n",
    "    \n",
    "    #space_delta는 (x,y)좌표의 변화량\n",
    "    fs.space_delta,\n",
    "    \n",
    "    #startlocation, endloaction에서 goal까지 거리랑 각도\n",
    "    fs.startpolar,\n",
    "    fs.endpolar,\n",
    "    \n",
    "    #home인지 away인지\n",
    "    fs.team,\n",
    "    \n",
    "    #time : 3가지 feature가 나옴\n",
    "    #1.period_id = 전반1 / 후반2\n",
    "    #2.time_seconds = 전/후반의 시작 후에 time\n",
    "    #3.time_seconds_overall = 게임시작후 초\n",
    "    # fs.time,\n",
    "    \n",
    "    #time_delta1 = 현 action time_seconds - 전 action time_seconds\n",
    "    #time_delta2 = 현 action time_seconds - 전전 action time_seconds\n",
    "    fs.time_delta,\n",
    "    \n",
    "]"
   ]
  },
  {
   "attachments": {},
   "cell_type": "markdown",
   "metadata": {},
   "source": [
    "### train 데이터 feature, label 처리하기"
   ]
  },
  {
   "cell_type": "code",
   "execution_count": 31,
   "metadata": {},
   "outputs": [
    {
     "name": "stderr",
     "output_type": "stream",
     "text": [
      "Generating and storing features in ./data-fifa/La Liga\\features_train.h5: 100%|██████████| 452/452 [01:01<00:00,  7.40it/s]\n",
      "Computing and storing labels in ./data-fifa/La Liga\\labels_train.h5: 100%|██████████| 452/452 [00:51<00:00,  8.70it/s]\n"
     ]
    }
   ],
   "source": [
    "for game in tqdm.tqdm(list(train_games.itertuples()), desc=f\"Generating and storing features in {features0_h5}\"):\n",
    "    actions = pd.read_hdf(spadl0_h5, f\"actions/game_{game.game_id}\")\n",
    "    gamestates = fs.gamestates(spadl.add_names(actions), 3)\n",
    "    gamestates = fs.play_left_to_right(gamestates, game.home_team_id)\n",
    "\n",
    "    X = pd.concat([fn(gamestates) for fn in xfns], axis=1)\n",
    "\n",
    "    X.to_hdf(features0_h5, f\"game_{game.game_id}\")\n",
    "    \n",
    "yfns = [lab.scores, lab.concedes, lab.goal_from_shot]\n",
    "\n",
    "for game in tqdm.tqdm(list(train_games.itertuples()), desc=f\"Computing and storing labels in {labels0_h5}\"):\n",
    "    actions = pd.read_hdf(spadl0_h5, f\"actions/game_{game.game_id}\")   \n",
    "    Y = pd.concat([fn(spadl.add_names(actions)) for fn in yfns], axis=1)\n",
    "    Y.to_hdf(labels0_h5, f\"game_{game.game_id}\")"
   ]
  },
  {
   "attachments": {},
   "cell_type": "markdown",
   "metadata": {},
   "source": [
    "### valid데이터 feature, label 처리하기"
   ]
  },
  {
   "cell_type": "code",
   "execution_count": 32,
   "metadata": {},
   "outputs": [
    {
     "name": "stderr",
     "output_type": "stream",
     "text": [
      "Generating and storing features in ./data-fifa/La Liga\\features_valid.h5: 100%|██████████| 33/33 [00:03<00:00, 10.65it/s]\n",
      "Computing and storing labels in ./data-fifa/La Liga\\labels_valid.h5: 100%|██████████| 33/33 [00:03<00:00, 10.50it/s]\n"
     ]
    }
   ],
   "source": [
    "for game in tqdm.tqdm(list(valid_games.itertuples()), desc=f\"Generating and storing features in {features1_h5}\"):\n",
    "    actions = pd.read_hdf(spadl1_h5, f\"actions/game_{game.game_id}\")\n",
    "    gamestates = fs.gamestates(spadl.add_names(actions), 3)\n",
    "    gamestates = fs.play_left_to_right(gamestates, game.home_team_id)\n",
    "    \n",
    "    X = pd.concat([fn(gamestates) for fn in xfns], axis=1)\n",
    "    X.to_hdf(features1_h5, f\"game_{game.game_id}\")\n",
    "    \n",
    "yfns = [lab.scores, lab.concedes, lab.goal_from_shot]\n",
    "\n",
    "for game in tqdm.tqdm(list(valid_games.itertuples()), desc=f\"Computing and storing labels in {labels1_h5}\"):\n",
    "    actions = pd.read_hdf(spadl1_h5, f\"actions/game_{game.game_id}\")   \n",
    "    Y = pd.concat([fn(spadl.add_names(actions)) for fn in yfns], axis=1)\n",
    "    Y.to_hdf(labels1_h5, f\"game_{game.game_id}\")"
   ]
  },
  {
   "attachments": {},
   "cell_type": "markdown",
   "metadata": {},
   "source": [
    "### test데이터 feature, label 처리하기"
   ]
  },
  {
   "cell_type": "code",
   "execution_count": 33,
   "metadata": {},
   "outputs": [
    {
     "name": "stderr",
     "output_type": "stream",
     "text": [
      "Generating and storing features in ./data-fifa/La Liga\\features_test.h5: 100%|██████████| 35/35 [00:00<00:00, 94.45it/s]"
     ]
    },
    {
     "name": "stdout",
     "output_type": "stream",
     "text": [
      "3773689\n"
     ]
    },
    {
     "name": "stderr",
     "output_type": "stream",
     "text": [
      "\n"
     ]
    }
   ],
   "source": [
    "for game in tqdm.tqdm(list(test_games.itertuples()), desc=f\"Generating and storing features in {features2_h5}\"):\n",
    "    actions = pd.read_hdf(spadl2_h5, f\"actions/game_{game.game_id}\")\n",
    "    #print(actions.game_id[0])\n",
    "    if actions.game_id[0]==3773689:\n",
    "         print(actions.game_id[0])"
   ]
  },
  {
   "cell_type": "code",
   "execution_count": 35,
   "metadata": {},
   "outputs": [
    {
     "name": "stderr",
     "output_type": "stream",
     "text": [
      "Generating and storing features in ./data-fifa/La Liga\\features_test.h5: 100%|██████████| 35/35 [00:03<00:00,  9.57it/s]\n",
      "Computing and storing labels in ./data-fifa/La Liga\\labels_test.h5: 100%|██████████| 35/35 [00:03<00:00, 10.61it/s]\n"
     ]
    }
   ],
   "source": [
    "for game in tqdm.tqdm(list(test_games.itertuples()), desc=f\"Generating and storing features in {features2_h5}\"):\n",
    "    actions = pd.read_hdf(spadl2_h5, f\"actions/game_{game.game_id}\")\n",
    "    gamestates = fs.gamestates(spadl.add_names(actions), 3)\n",
    "    gamestates = fs.play_left_to_right(gamestates, game.home_team_id)\n",
    "    \n",
    "    X = pd.concat([fn(gamestates) for fn in xfns], axis=1)\n",
    "    X.to_hdf(features2_h5, f\"game_{game.game_id}\")\n",
    "    \n",
    "yfns = [lab.scores, lab.concedes, lab.goal_from_shot]\n",
    "\n",
    "for game in tqdm.tqdm(list(test_games.itertuples()), desc=f\"Computing and storing labels in {labels2_h5}\"):\n",
    "    actions = pd.read_hdf(spadl2_h5, f\"actions/game_{game.game_id}\")   \n",
    "    Y = pd.concat([fn(spadl.add_names(actions)) for fn in yfns], axis=1)\n",
    "    Y.to_hdf(labels2_h5, f\"game_{game.game_id}\")"
   ]
  },
  {
   "cell_type": "code",
   "execution_count": 36,
   "metadata": {},
   "outputs": [
    {
     "data": {
      "text/html": [
       "<div>\n",
       "<style scoped>\n",
       "    .dataframe tbody tr th:only-of-type {\n",
       "        vertical-align: middle;\n",
       "    }\n",
       "\n",
       "    .dataframe tbody tr th {\n",
       "        vertical-align: top;\n",
       "    }\n",
       "\n",
       "    .dataframe thead th {\n",
       "        text-align: right;\n",
       "    }\n",
       "</style>\n",
       "<table border=\"1\" class=\"dataframe\">\n",
       "  <thead>\n",
       "    <tr style=\"text-align: right;\">\n",
       "      <th></th>\n",
       "      <th>scores</th>\n",
       "      <th>concedes</th>\n",
       "      <th>goal_from_shot</th>\n",
       "    </tr>\n",
       "  </thead>\n",
       "  <tbody>\n",
       "    <tr>\n",
       "      <th>0</th>\n",
       "      <td>False</td>\n",
       "      <td>False</td>\n",
       "      <td>False</td>\n",
       "    </tr>\n",
       "    <tr>\n",
       "      <th>1</th>\n",
       "      <td>False</td>\n",
       "      <td>False</td>\n",
       "      <td>False</td>\n",
       "    </tr>\n",
       "    <tr>\n",
       "      <th>2</th>\n",
       "      <td>False</td>\n",
       "      <td>False</td>\n",
       "      <td>False</td>\n",
       "    </tr>\n",
       "    <tr>\n",
       "      <th>3</th>\n",
       "      <td>False</td>\n",
       "      <td>False</td>\n",
       "      <td>False</td>\n",
       "    </tr>\n",
       "    <tr>\n",
       "      <th>4</th>\n",
       "      <td>False</td>\n",
       "      <td>False</td>\n",
       "      <td>False</td>\n",
       "    </tr>\n",
       "    <tr>\n",
       "      <th>...</th>\n",
       "      <td>...</td>\n",
       "      <td>...</td>\n",
       "      <td>...</td>\n",
       "    </tr>\n",
       "    <tr>\n",
       "      <th>2235</th>\n",
       "      <td>False</td>\n",
       "      <td>False</td>\n",
       "      <td>False</td>\n",
       "    </tr>\n",
       "    <tr>\n",
       "      <th>2236</th>\n",
       "      <td>False</td>\n",
       "      <td>False</td>\n",
       "      <td>False</td>\n",
       "    </tr>\n",
       "    <tr>\n",
       "      <th>2237</th>\n",
       "      <td>False</td>\n",
       "      <td>False</td>\n",
       "      <td>False</td>\n",
       "    </tr>\n",
       "    <tr>\n",
       "      <th>2238</th>\n",
       "      <td>False</td>\n",
       "      <td>False</td>\n",
       "      <td>False</td>\n",
       "    </tr>\n",
       "    <tr>\n",
       "      <th>2239</th>\n",
       "      <td>False</td>\n",
       "      <td>False</td>\n",
       "      <td>False</td>\n",
       "    </tr>\n",
       "  </tbody>\n",
       "</table>\n",
       "<p>2240 rows × 3 columns</p>\n",
       "</div>"
      ],
      "text/plain": [
       "      scores  concedes  goal_from_shot\n",
       "0      False     False           False\n",
       "1      False     False           False\n",
       "2      False     False           False\n",
       "3      False     False           False\n",
       "4      False     False           False\n",
       "...      ...       ...             ...\n",
       "2235   False     False           False\n",
       "2236   False     False           False\n",
       "2237   False     False           False\n",
       "2238   False     False           False\n",
       "2239   False     False           False\n",
       "\n",
       "[2240 rows x 3 columns]"
      ]
     },
     "execution_count": 36,
     "metadata": {},
     "output_type": "execute_result"
    }
   ],
   "source": [
    "Y"
   ]
  },
  {
   "cell_type": "code",
   "execution_count": 11,
   "metadata": {},
   "outputs": [
    {
     "data": {
      "text/html": [
       "<div>\n",
       "<style scoped>\n",
       "    .dataframe tbody tr th:only-of-type {\n",
       "        vertical-align: middle;\n",
       "    }\n",
       "\n",
       "    .dataframe tbody tr th {\n",
       "        vertical-align: top;\n",
       "    }\n",
       "\n",
       "    .dataframe thead th {\n",
       "        text-align: right;\n",
       "    }\n",
       "</style>\n",
       "<table border=\"1\" class=\"dataframe\">\n",
       "  <thead>\n",
       "    <tr style=\"text-align: right;\">\n",
       "      <th></th>\n",
       "      <th>game_id</th>\n",
       "      <th>original_event_id</th>\n",
       "      <th>period_id</th>\n",
       "      <th>time_seconds</th>\n",
       "      <th>team_id</th>\n",
       "      <th>player_id</th>\n",
       "      <th>start_x</th>\n",
       "      <th>start_y</th>\n",
       "      <th>end_x</th>\n",
       "      <th>end_y</th>\n",
       "      <th>type_id</th>\n",
       "      <th>result_id</th>\n",
       "      <th>bodypart_id</th>\n",
       "      <th>action_id</th>\n",
       "    </tr>\n",
       "  </thead>\n",
       "  <tbody>\n",
       "    <tr>\n",
       "      <th>0</th>\n",
       "      <td>3773477</td>\n",
       "      <td>a39b9c13-9a01-4452-b6fa-d5058ead67bf</td>\n",
       "      <td>1</td>\n",
       "      <td>0.0</td>\n",
       "      <td>218</td>\n",
       "      <td>6880.0</td>\n",
       "      <td>52.058824</td>\n",
       "      <td>33.655696</td>\n",
       "      <td>56.382353</td>\n",
       "      <td>35.549367</td>\n",
       "      <td>0</td>\n",
       "      <td>1</td>\n",
       "      <td>5</td>\n",
       "      <td>0</td>\n",
       "    </tr>\n",
       "    <tr>\n",
       "      <th>1</th>\n",
       "      <td>3773477</td>\n",
       "      <td>cc81f927-dda5-4ead-9a0f-38072ea0c563</td>\n",
       "      <td>1</td>\n",
       "      <td>1.0</td>\n",
       "      <td>218</td>\n",
       "      <td>6673.0</td>\n",
       "      <td>56.382353</td>\n",
       "      <td>35.549367</td>\n",
       "      <td>49.676471</td>\n",
       "      <td>37.959494</td>\n",
       "      <td>21</td>\n",
       "      <td>1</td>\n",
       "      <td>0</td>\n",
       "      <td>1</td>\n",
       "    </tr>\n",
       "    <tr>\n",
       "      <th>2</th>\n",
       "      <td>3773477</td>\n",
       "      <td>571103bd-adb0-4f9a-b591-e9fbd6ee80f6</td>\n",
       "      <td>1</td>\n",
       "      <td>3.0</td>\n",
       "      <td>218</td>\n",
       "      <td>6673.0</td>\n",
       "      <td>49.676471</td>\n",
       "      <td>37.959494</td>\n",
       "      <td>36.088235</td>\n",
       "      <td>64.470886</td>\n",
       "      <td>0</td>\n",
       "      <td>0</td>\n",
       "      <td>4</td>\n",
       "      <td>2</td>\n",
       "    </tr>\n",
       "    <tr>\n",
       "      <th>3</th>\n",
       "      <td>3773477</td>\n",
       "      <td>e62ef626-4bbd-4efa-a923-6bc939de5ab0</td>\n",
       "      <td>1</td>\n",
       "      <td>5.0</td>\n",
       "      <td>217</td>\n",
       "      <td>5211.0</td>\n",
       "      <td>35.294118</td>\n",
       "      <td>65.245570</td>\n",
       "      <td>35.294118</td>\n",
       "      <td>65.245570</td>\n",
       "      <td>10</td>\n",
       "      <td>1</td>\n",
       "      <td>0</td>\n",
       "      <td>3</td>\n",
       "    </tr>\n",
       "    <tr>\n",
       "      <th>4</th>\n",
       "      <td>3773477</td>\n",
       "      <td>301b4005-4f81-4d3c-ac21-b9a59ddad5cc</td>\n",
       "      <td>1</td>\n",
       "      <td>5.0</td>\n",
       "      <td>217</td>\n",
       "      <td>5211.0</td>\n",
       "      <td>35.294118</td>\n",
       "      <td>65.245570</td>\n",
       "      <td>45.352941</td>\n",
       "      <td>64.298734</td>\n",
       "      <td>21</td>\n",
       "      <td>1</td>\n",
       "      <td>0</td>\n",
       "      <td>4</td>\n",
       "    </tr>\n",
       "    <tr>\n",
       "      <th>...</th>\n",
       "      <td>...</td>\n",
       "      <td>...</td>\n",
       "      <td>...</td>\n",
       "      <td>...</td>\n",
       "      <td>...</td>\n",
       "      <td>...</td>\n",
       "      <td>...</td>\n",
       "      <td>...</td>\n",
       "      <td>...</td>\n",
       "      <td>...</td>\n",
       "      <td>...</td>\n",
       "      <td>...</td>\n",
       "      <td>...</td>\n",
       "      <td>...</td>\n",
       "    </tr>\n",
       "    <tr>\n",
       "      <th>2235</th>\n",
       "      <td>3773477</td>\n",
       "      <td>4a798266-43d7-4c9a-91d5-276cc5228b69</td>\n",
       "      <td>2</td>\n",
       "      <td>2972.0</td>\n",
       "      <td>218</td>\n",
       "      <td>6851.0</td>\n",
       "      <td>68.823529</td>\n",
       "      <td>64.556962</td>\n",
       "      <td>37.676471</td>\n",
       "      <td>57.068354</td>\n",
       "      <td>0</td>\n",
       "      <td>1</td>\n",
       "      <td>5</td>\n",
       "      <td>2235</td>\n",
       "    </tr>\n",
       "    <tr>\n",
       "      <th>2236</th>\n",
       "      <td>3773477</td>\n",
       "      <td>edd38889-aaed-45b8-8ad4-16718a477d66</td>\n",
       "      <td>2</td>\n",
       "      <td>2974.0</td>\n",
       "      <td>217</td>\n",
       "      <td>6826.0</td>\n",
       "      <td>42.000000</td>\n",
       "      <td>58.101266</td>\n",
       "      <td>42.000000</td>\n",
       "      <td>58.101266</td>\n",
       "      <td>8</td>\n",
       "      <td>1</td>\n",
       "      <td>0</td>\n",
       "      <td>2236</td>\n",
       "    </tr>\n",
       "    <tr>\n",
       "      <th>2237</th>\n",
       "      <td>3773477</td>\n",
       "      <td>6a5e2ead-5a23-4cc7-8f17-e2cc14e98a53</td>\n",
       "      <td>2</td>\n",
       "      <td>3002.0</td>\n",
       "      <td>218</td>\n",
       "      <td>41083.0</td>\n",
       "      <td>48.970588</td>\n",
       "      <td>62.577215</td>\n",
       "      <td>6.529412</td>\n",
       "      <td>34.688608</td>\n",
       "      <td>3</td>\n",
       "      <td>0</td>\n",
       "      <td>4</td>\n",
       "      <td>2237</td>\n",
       "    </tr>\n",
       "    <tr>\n",
       "      <th>2238</th>\n",
       "      <td>3773477</td>\n",
       "      <td>09fcb776-16cd-41fc-82f5-387115a4f97e</td>\n",
       "      <td>2</td>\n",
       "      <td>3006.0</td>\n",
       "      <td>217</td>\n",
       "      <td>20055.0</td>\n",
       "      <td>5.735294</td>\n",
       "      <td>35.463291</td>\n",
       "      <td>6.970588</td>\n",
       "      <td>31.503797</td>\n",
       "      <td>21</td>\n",
       "      <td>1</td>\n",
       "      <td>0</td>\n",
       "      <td>2238</td>\n",
       "    </tr>\n",
       "    <tr>\n",
       "      <th>2239</th>\n",
       "      <td>3773477</td>\n",
       "      <td>b2d664b0-975b-460a-9a88-c903990c4852</td>\n",
       "      <td>2</td>\n",
       "      <td>3009.0</td>\n",
       "      <td>217</td>\n",
       "      <td>20055.0</td>\n",
       "      <td>6.970588</td>\n",
       "      <td>31.503797</td>\n",
       "      <td>12.088235</td>\n",
       "      <td>31.073418</td>\n",
       "      <td>0</td>\n",
       "      <td>1</td>\n",
       "      <td>2</td>\n",
       "      <td>2239</td>\n",
       "    </tr>\n",
       "  </tbody>\n",
       "</table>\n",
       "<p>2240 rows × 14 columns</p>\n",
       "</div>"
      ],
      "text/plain": [
       "      game_id                     original_event_id  period_id  time_seconds   \n",
       "0     3773477  a39b9c13-9a01-4452-b6fa-d5058ead67bf          1           0.0  \\\n",
       "1     3773477  cc81f927-dda5-4ead-9a0f-38072ea0c563          1           1.0   \n",
       "2     3773477  571103bd-adb0-4f9a-b591-e9fbd6ee80f6          1           3.0   \n",
       "3     3773477  e62ef626-4bbd-4efa-a923-6bc939de5ab0          1           5.0   \n",
       "4     3773477  301b4005-4f81-4d3c-ac21-b9a59ddad5cc          1           5.0   \n",
       "...       ...                                   ...        ...           ...   \n",
       "2235  3773477  4a798266-43d7-4c9a-91d5-276cc5228b69          2        2972.0   \n",
       "2236  3773477  edd38889-aaed-45b8-8ad4-16718a477d66          2        2974.0   \n",
       "2237  3773477  6a5e2ead-5a23-4cc7-8f17-e2cc14e98a53          2        3002.0   \n",
       "2238  3773477  09fcb776-16cd-41fc-82f5-387115a4f97e          2        3006.0   \n",
       "2239  3773477  b2d664b0-975b-460a-9a88-c903990c4852          2        3009.0   \n",
       "\n",
       "      team_id  player_id    start_x    start_y      end_x      end_y  type_id   \n",
       "0         218     6880.0  52.058824  33.655696  56.382353  35.549367        0  \\\n",
       "1         218     6673.0  56.382353  35.549367  49.676471  37.959494       21   \n",
       "2         218     6673.0  49.676471  37.959494  36.088235  64.470886        0   \n",
       "3         217     5211.0  35.294118  65.245570  35.294118  65.245570       10   \n",
       "4         217     5211.0  35.294118  65.245570  45.352941  64.298734       21   \n",
       "...       ...        ...        ...        ...        ...        ...      ...   \n",
       "2235      218     6851.0  68.823529  64.556962  37.676471  57.068354        0   \n",
       "2236      217     6826.0  42.000000  58.101266  42.000000  58.101266        8   \n",
       "2237      218    41083.0  48.970588  62.577215   6.529412  34.688608        3   \n",
       "2238      217    20055.0   5.735294  35.463291   6.970588  31.503797       21   \n",
       "2239      217    20055.0   6.970588  31.503797  12.088235  31.073418        0   \n",
       "\n",
       "      result_id  bodypart_id  action_id  \n",
       "0             1            5          0  \n",
       "1             1            0          1  \n",
       "2             0            4          2  \n",
       "3             1            0          3  \n",
       "4             1            0          4  \n",
       "...         ...          ...        ...  \n",
       "2235          1            5       2235  \n",
       "2236          1            0       2236  \n",
       "2237          0            4       2237  \n",
       "2238          1            0       2238  \n",
       "2239          1            2       2239  \n",
       "\n",
       "[2240 rows x 14 columns]"
      ]
     },
     "execution_count": 11,
     "metadata": {},
     "output_type": "execute_result"
    }
   ],
   "source": [
    "actions"
   ]
  },
  {
   "cell_type": "code",
   "execution_count": null,
   "metadata": {},
   "outputs": [],
   "source": []
  }
 ],
 "metadata": {
  "kernelspec": {
   "display_name": "base",
   "language": "python",
   "name": "python3"
  },
  "language_info": {
   "codemirror_mode": {
    "name": "ipython",
    "version": 3
   },
   "file_extension": ".py",
   "mimetype": "text/x-python",
   "name": "python",
   "nbconvert_exporter": "python",
   "pygments_lexer": "ipython3",
   "version": "3.10.11"
  },
  "orig_nbformat": 4,
  "vscode": {
   "interpreter": {
    "hash": "7e11559585671b6ea0e062e4c69e511eac2837c082bc5a0530b68ddc7f355068"
   }
  }
 },
 "nbformat": 4,
 "nbformat_minor": 2
}
