{
 "cells": [
  {
   "cell_type": "code",
   "execution_count": 40,
   "metadata": {},
   "outputs": [],
   "source": [
    "import os\n",
    "import warnings\n",
    "import tqdm\n",
    "import pandas as pd\n",
    "import numpy as np\n",
    "warnings.simplefilter(action='ignore', category=pd.errors.PerformanceWarning)"
   ]
  },
  {
   "cell_type": "code",
   "execution_count": 41,
   "metadata": {},
   "outputs": [
    {
     "name": "stdout",
     "output_type": "stream",
     "text": [
      "The autoreload extension is already loaded. To reload it, use:\n",
      "  %reload_ext autoreload\n"
     ]
    }
   ],
   "source": [
    "%load_ext autoreload\n",
    "%autoreload 2\n",
    "import socceraction.vaep.features as fs\n",
    "import socceraction.vaep.labels as lab"
   ]
  },
  {
   "cell_type": "code",
   "execution_count": 42,
   "metadata": {},
   "outputs": [],
   "source": [
    "datafolder = \"./data-fifa/La Liga\"\n",
    "#0은 train, 1은 valid, 2은 test\n",
    "\n",
    "spadl0_h5 = os.path.join(datafolder, \"spadl-statsbomb_train_competitions.h5\")\n",
    "features0_h5 = os.path.join(datafolder, \"features_train.h5\")\n",
    "labels0_h5 = os.path.join(datafolder, \"labels_train.h5\")\n",
    "\n",
    "spadl1_h5 = os.path.join(datafolder, \"spadl-statsbomb_valid_competitions.h5\")\n",
    "features1_h5 = os.path.join(datafolder, \"features_valid.h5\")\n",
    "labels1_h5 = os.path.join(datafolder, \"labels_valid.h5\")\n",
    "\n",
    "spadl2_h5 = os.path.join(datafolder, \"spadl-statsbomb_test_competitions.h5\")\n",
    "features2_h5 = os.path.join(datafolder, \"features_test.h5\")\n",
    "labels2_h5 = os.path.join(datafolder, \"labels_test.h5\")"
   ]
  },
  {
   "cell_type": "code",
   "execution_count": 43,
   "metadata": {},
   "outputs": [
    {
     "name": "stdout",
     "output_type": "stream",
     "text": [
      "nb of games: 452\n",
      "nb of games: 33\n",
      "nb of games: 35\n"
     ]
    }
   ],
   "source": [
    "train_games = pd.read_hdf(spadl0_h5, \"games\")\n",
    "print(\"nb of games:\", len(train_games))\n",
    "\n",
    "valid_games = pd.read_hdf(spadl1_h5, \"games\")\n",
    "print(\"nb of games:\", len(valid_games))\n",
    "\n",
    "test_games = pd.read_hdf(spadl2_h5, \"games\")\n",
    "print(\"nb of games:\", len(test_games))"
   ]
  },
  {
   "cell_type": "code",
   "execution_count": 44,
   "metadata": {},
   "outputs": [],
   "source": [
    "#Select feature set X\n",
    "\n",
    "xfns = [\n",
    "    fs.actiontype,\n",
    "    fs.actiontype_onehot,\n",
    "    \n",
    "    #foot, head, head/other, other\n",
    "    #foot중 왼/오른발 구분은 bodypart에서 하지 않음\n",
    "    fs.bodypart,\n",
    "    fs.bodypart_onehot,\n",
    "    \n",
    "    #각 수행한 액션의 왼/ 오른발로 구분함\n",
    "    # fs.bodypart_detailed,\n",
    "    # fs.bodypart_detailed_onehot,\n",
    "    \n",
    "    fs.result,\n",
    "    fs.result_onehot,\n",
    "    \n",
    "    #goalscore_team, goalscore_opponent, goalscore_diff 3개의 feature를 불러옴\n",
    "    fs.goalscore,\n",
    "    \n",
    "    #action type and result사이의 원핫인코딩값?\n",
    "    # fs.actiontype_result_onehot,\n",
    "    \n",
    "    \n",
    "    #action의 시작, 끝 위치\n",
    "    fs.startlocation,\n",
    "    fs.endlocation,\n",
    "    \n",
    "    #movement는 x좌표변화량, y좌표변화량\n",
    "    fs.movement,\n",
    "    \n",
    "    #space_delta는 (x,y)좌표의 변화량\n",
    "    fs.space_delta,\n",
    "    \n",
    "    #startlocation, endloaction에서 goal까지 거리랑 각도\n",
    "    fs.startpolar,\n",
    "    fs.endpolar,\n",
    "    \n",
    "    #home인지 away인지\n",
    "    fs.team,\n",
    "    \n",
    "    #time : 3가지 feature가 나옴\n",
    "    #1.period_id = 전반1 / 후반2\n",
    "    #2.time_seconds = 전/후반의 시작 후에 time\n",
    "    #3.time_seconds_overall = 게임시작후 초\n",
    "    # fs.time,\n",
    "    \n",
    "    #time_delta1 = 현 action time_seconds - 전 action time_seconds\n",
    "    #time_delta2 = 현 action time_seconds - 전전 action time_seconds\n",
    "    fs.time_delta,\n",
    "    \n",
    "]"
   ]
  },
  {
   "cell_type": "code",
   "execution_count": 45,
   "metadata": {},
   "outputs": [
    {
     "data": {
      "text/plain": [
       "['type_id_a0',\n",
       " 'type_id_a1',\n",
       " 'type_id_a2',\n",
       " 'type_pass_a0',\n",
       " 'type_cross_a0',\n",
       " 'type_throw_in_a0',\n",
       " 'type_freekick_crossed_a0',\n",
       " 'type_freekick_short_a0',\n",
       " 'type_corner_crossed_a0',\n",
       " 'type_corner_short_a0',\n",
       " 'type_take_on_a0',\n",
       " 'type_foul_a0',\n",
       " 'type_tackle_a0',\n",
       " 'type_interception_a0',\n",
       " 'type_shot_a0',\n",
       " 'type_shot_penalty_a0',\n",
       " 'type_shot_freekick_a0',\n",
       " 'type_keeper_save_a0',\n",
       " 'type_keeper_claim_a0',\n",
       " 'type_keeper_punch_a0',\n",
       " 'type_keeper_pick_up_a0',\n",
       " 'type_clearance_a0',\n",
       " 'type_bad_touch_a0',\n",
       " 'type_non_action_a0',\n",
       " 'type_dribble_a0',\n",
       " 'type_goalkick_a0',\n",
       " 'type_pass_a1',\n",
       " 'type_cross_a1',\n",
       " 'type_throw_in_a1',\n",
       " 'type_freekick_crossed_a1',\n",
       " 'type_freekick_short_a1',\n",
       " 'type_corner_crossed_a1',\n",
       " 'type_corner_short_a1',\n",
       " 'type_take_on_a1',\n",
       " 'type_foul_a1',\n",
       " 'type_tackle_a1',\n",
       " 'type_interception_a1',\n",
       " 'type_shot_a1',\n",
       " 'type_shot_penalty_a1',\n",
       " 'type_shot_freekick_a1',\n",
       " 'type_keeper_save_a1',\n",
       " 'type_keeper_claim_a1',\n",
       " 'type_keeper_punch_a1',\n",
       " 'type_keeper_pick_up_a1',\n",
       " 'type_clearance_a1',\n",
       " 'type_bad_touch_a1',\n",
       " 'type_non_action_a1',\n",
       " 'type_dribble_a1',\n",
       " 'type_goalkick_a1',\n",
       " 'type_pass_a2',\n",
       " 'type_cross_a2',\n",
       " 'type_throw_in_a2',\n",
       " 'type_freekick_crossed_a2',\n",
       " 'type_freekick_short_a2',\n",
       " 'type_corner_crossed_a2',\n",
       " 'type_corner_short_a2',\n",
       " 'type_take_on_a2',\n",
       " 'type_foul_a2',\n",
       " 'type_tackle_a2',\n",
       " 'type_interception_a2',\n",
       " 'type_shot_a2',\n",
       " 'type_shot_penalty_a2',\n",
       " 'type_shot_freekick_a2',\n",
       " 'type_keeper_save_a2',\n",
       " 'type_keeper_claim_a2',\n",
       " 'type_keeper_punch_a2',\n",
       " 'type_keeper_pick_up_a2',\n",
       " 'type_clearance_a2',\n",
       " 'type_bad_touch_a2',\n",
       " 'type_non_action_a2',\n",
       " 'type_dribble_a2',\n",
       " 'type_goalkick_a2',\n",
       " 'bodypart_id_a0',\n",
       " 'bodypart_id_a1',\n",
       " 'bodypart_id_a2',\n",
       " 'bodypart_foot_a0',\n",
       " 'bodypart_head_a0',\n",
       " 'bodypart_other_a0',\n",
       " 'bodypart_head/other_a0',\n",
       " 'bodypart_foot_a1',\n",
       " 'bodypart_head_a1',\n",
       " 'bodypart_other_a1',\n",
       " 'bodypart_head/other_a1',\n",
       " 'bodypart_foot_a2',\n",
       " 'bodypart_head_a2',\n",
       " 'bodypart_other_a2',\n",
       " 'bodypart_head/other_a2',\n",
       " 'result_id_a0',\n",
       " 'result_id_a1',\n",
       " 'result_id_a2',\n",
       " 'result_fail_a0',\n",
       " 'result_success_a0',\n",
       " 'result_offside_a0',\n",
       " 'result_owngoal_a0',\n",
       " 'result_yellow_card_a0',\n",
       " 'result_red_card_a0',\n",
       " 'result_fail_a1',\n",
       " 'result_success_a1',\n",
       " 'result_offside_a1',\n",
       " 'result_owngoal_a1',\n",
       " 'result_yellow_card_a1',\n",
       " 'result_red_card_a1',\n",
       " 'result_fail_a2',\n",
       " 'result_success_a2',\n",
       " 'result_offside_a2',\n",
       " 'result_owngoal_a2',\n",
       " 'result_yellow_card_a2',\n",
       " 'result_red_card_a2',\n",
       " 'goalscore_team',\n",
       " 'goalscore_opponent',\n",
       " 'goalscore_diff',\n",
       " 'start_x_a0',\n",
       " 'start_y_a0',\n",
       " 'start_x_a1',\n",
       " 'start_y_a1',\n",
       " 'start_x_a2',\n",
       " 'start_y_a2',\n",
       " 'end_x_a0',\n",
       " 'end_y_a0',\n",
       " 'end_x_a1',\n",
       " 'end_y_a1',\n",
       " 'end_x_a2',\n",
       " 'end_y_a2',\n",
       " 'dx_a0',\n",
       " 'dy_a0',\n",
       " 'movement_a0',\n",
       " 'dx_a1',\n",
       " 'dy_a1',\n",
       " 'movement_a1',\n",
       " 'dx_a2',\n",
       " 'dy_a2',\n",
       " 'movement_a2',\n",
       " 'dx_a01',\n",
       " 'dy_a01',\n",
       " 'mov_a01',\n",
       " 'dx_a02',\n",
       " 'dy_a02',\n",
       " 'mov_a02',\n",
       " 'start_dist_to_goal_a0',\n",
       " 'start_angle_to_goal_a0',\n",
       " 'start_dist_to_goal_a1',\n",
       " 'start_angle_to_goal_a1',\n",
       " 'start_dist_to_goal_a2',\n",
       " 'start_angle_to_goal_a2',\n",
       " 'end_dist_to_goal_a0',\n",
       " 'end_angle_to_goal_a0',\n",
       " 'end_dist_to_goal_a1',\n",
       " 'end_angle_to_goal_a1',\n",
       " 'end_dist_to_goal_a2',\n",
       " 'end_angle_to_goal_a2',\n",
       " 'team_1',\n",
       " 'team_2',\n",
       " 'time_delta_1',\n",
       " 'time_delta_2']"
      ]
     },
     "execution_count": 45,
     "metadata": {},
     "output_type": "execute_result"
    }
   ],
   "source": [
    "nb_prev_actions = 3\n",
    "\n",
    "Xcols = fs.feature_column_names(xfns, nb_prev_actions)\n",
    "Xcols"
   ]
  },
  {
   "attachments": {},
   "cell_type": "markdown",
   "metadata": {},
   "source": [
    "### train, valid, test 데이터를 X, Y데이터로 변환하는 함수"
   ]
  },
  {
   "attachments": {},
   "cell_type": "markdown",
   "metadata": {},
   "source": [
    "### game_id = 3773689는 score와 concede가 둘 다 true인 데이터가 존재해서 그냥 지워버림"
   ]
  },
  {
   "cell_type": "code",
   "execution_count": 46,
   "metadata": {},
   "outputs": [],
   "source": [
    "def getXY(games,Xcols, features_h5, labels_h5):\n",
    "    # generate the columns of the selected feature\n",
    "    # X에 들어가는것이 독립변수이니까 중요한 feature가 들어가는 것은 맞지만\n",
    "    # 남성 vs 여성 actions 차이\n",
    "    # 시즌별 actions 차이\n",
    "    # 리그별 actions 차이\n",
    "    # 다양한 변수를 비교해서 actions를 비교해본다\n",
    "    X = []\n",
    "    for game_id in tqdm.tqdm(games.game_id, desc=\"Selecting features\"):\n",
    "        if game_id == 3773689:\n",
    "            print(\"game_id = \",3773689,\"인  game은 제거합니다\")\n",
    "            continue\n",
    "        \n",
    "        Xi = pd.read_hdf(features_h5, f\"game_{game_id}\")\n",
    "        X.append(Xi[Xcols])\n",
    "    X = pd.concat(X).reset_index(drop=True)\n",
    "\n",
    "    # 2. Select label Y\n",
    "    Ycols = [\"scores\",\"concedes\"]\n",
    "    Y = []\n",
    "    for game_id in tqdm.tqdm(games.game_id, desc=\"Selecting label\"):\n",
    "        if game_id == 3773689:\n",
    "            print(\"game_id = \",3773689,\"인  game은 제거합니다\")\n",
    "            continue\n",
    "        Yi = pd.read_hdf(labels_h5, f\"game_{game_id}\")\n",
    "        Y.append(Yi[Ycols])\n",
    "    Y = pd.concat(Y).reset_index(drop=True)\n",
    "    \n",
    "    return X, Y"
   ]
  },
  {
   "cell_type": "code",
   "execution_count": 47,
   "metadata": {},
   "outputs": [
    {
     "name": "stderr",
     "output_type": "stream",
     "text": [
      "Selecting features: 100%|██████████| 452/452 [00:05<00:00, 86.79it/s]\n",
      "Selecting label: 100%|██████████| 452/452 [00:02<00:00, 189.82it/s]\n"
     ]
    },
    {
     "data": {
      "text/plain": [
       "((998780, 154), (998780, 2))"
      ]
     },
     "execution_count": 47,
     "metadata": {},
     "output_type": "execute_result"
    }
   ],
   "source": [
    "X_train, Y_train = getXY(train_games,Xcols, features0_h5, labels0_h5)\n",
    "X_train.shape, Y_train.shape"
   ]
  },
  {
   "cell_type": "code",
   "execution_count": 48,
   "metadata": {},
   "outputs": [
    {
     "name": "stderr",
     "output_type": "stream",
     "text": [
      "Selecting features: 100%|██████████| 33/33 [00:00<00:00, 89.56it/s]\n",
      "Selecting label: 100%|██████████| 33/33 [00:00<00:00, 182.95it/s]\n"
     ]
    },
    {
     "data": {
      "text/plain": [
       "((75786, 154), (75786, 2))"
      ]
     },
     "execution_count": 48,
     "metadata": {},
     "output_type": "execute_result"
    }
   ],
   "source": [
    "X_valid, Y_valid = getXY(valid_games,Xcols, features1_h5, labels1_h5)\n",
    "X_valid.shape, Y_valid.shape"
   ]
  },
  {
   "cell_type": "code",
   "execution_count": 49,
   "metadata": {},
   "outputs": [
    {
     "name": "stderr",
     "output_type": "stream",
     "text": [
      "Selecting features: 100%|██████████| 35/35 [00:00<00:00, 85.42it/s]\n"
     ]
    },
    {
     "name": "stdout",
     "output_type": "stream",
     "text": [
      "game_id =  3773689 인  game은 제거합니다\n"
     ]
    },
    {
     "name": "stderr",
     "output_type": "stream",
     "text": [
      "Selecting label: 100%|██████████| 35/35 [00:00<00:00, 189.29it/s]"
     ]
    },
    {
     "name": "stdout",
     "output_type": "stream",
     "text": [
      "game_id =  3773689 인  game은 제거합니다\n"
     ]
    },
    {
     "name": "stderr",
     "output_type": "stream",
     "text": [
      "\n"
     ]
    },
    {
     "data": {
      "text/plain": [
       "((79812, 154), (79812, 2))"
      ]
     },
     "execution_count": 49,
     "metadata": {},
     "output_type": "execute_result"
    }
   ],
   "source": [
    "X_test, Y_test = getXY(test_games,Xcols, features2_h5, labels2_h5)\n",
    "X_test.shape, Y_test.shape"
   ]
  },
  {
   "attachments": {},
   "cell_type": "markdown",
   "metadata": {},
   "source": [
    "## -Data preprocessing"
   ]
  },
  {
   "attachments": {},
   "cell_type": "markdown",
   "metadata": {},
   "source": [
    "1. time_delta 오류값 처리 <br><br>\n",
    "- X_train, X_valid, X_test에는 오류값이 들어있는데, 바로 time_delta값이다<br>\n",
    "- time_delta = 현재 action time - 전 action time <br>\n",
    "- 위 방식대로 각 경기를 연결하면, 현재 경기의 첫번째 time_delta = 현재 경기 첫 time - 전 경기 마지막 time가 들어가므로 오류가 발생함 => 개별적으로 전처리해줌<br>"
   ]
  },
  {
   "cell_type": "code",
   "execution_count": 50,
   "metadata": {},
   "outputs": [
    {
     "data": {
      "text/plain": [
       "(452, 33, 34)"
      ]
     },
     "execution_count": 50,
     "metadata": {},
     "output_type": "execute_result"
    }
   ],
   "source": [
    "count1 = 0\n",
    "count2 = 0\n",
    "count3 = 0\n",
    "\n",
    "#train, valid, test모두 time_delata값에 음수가 들어가는 현상발생\n",
    "for i,value in enumerate(X_train['time_delta_1']):\n",
    "    if value<0:\n",
    "        count1+=1\n",
    "        \n",
    "for i,value in enumerate(X_valid['time_delta_1']):\n",
    "    if value<0:\n",
    "        count2+=1\n",
    "        \n",
    "for i,value in enumerate(X_test['time_delta_1']):\n",
    "    if value<0:\n",
    "        count3+=1\n",
    "\n",
    "count1,count2,count3"
   ]
  },
  {
   "attachments": {},
   "cell_type": "markdown",
   "metadata": {},
   "source": [
    "time_prprocessing함수는 time_delta_1, time_delta_2의 feature를 전처리하는 함수로<br>\n",
    "음수로 표현된 잘못 된 값은 이전action이 없어서 나오는 값이므로 0으로 처리한다"
   ]
  },
  {
   "cell_type": "code",
   "execution_count": 51,
   "metadata": {},
   "outputs": [],
   "source": [
    "def time_preprocessing(data):\n",
    "    for i in tqdm.tqdm(range(len(data))):\n",
    "        if data.loc[i,'time_delta_1'] < 0.0:\n",
    "            data.loc[i,'time_delta_1'] = 0.0\n",
    "            \n",
    "        if data.loc[i,'time_delta_2'] < 0.0:\n",
    "            data.loc[i,'time_delta_2'] = 0.0    \n",
    "\n",
    "    return data"
   ]
  },
  {
   "cell_type": "code",
   "execution_count": 52,
   "metadata": {},
   "outputs": [
    {
     "name": "stderr",
     "output_type": "stream",
     "text": [
      "100%|██████████| 998780/998780 [00:16<00:00, 60797.15it/s]\n",
      "100%|██████████| 75786/75786 [00:01<00:00, 65054.47it/s]\n",
      "100%|██████████| 79812/79812 [00:01<00:00, 68174.27it/s]\n"
     ]
    }
   ],
   "source": [
    "X_train = time_preprocessing(X_train)\n",
    "X_valid = time_preprocessing(X_valid)\n",
    "X_test = time_preprocessing(X_test)"
   ]
  },
  {
   "cell_type": "code",
   "execution_count": 53,
   "metadata": {},
   "outputs": [
    {
     "data": {
      "text/plain": [
       "((998780, 154), (75786, 154), (79812, 154))"
      ]
     },
     "execution_count": 53,
     "metadata": {},
     "output_type": "execute_result"
    }
   ],
   "source": [
    "X_train.shape, X_valid.shape,X_test.shape"
   ]
  },
  {
   "cell_type": "code",
   "execution_count": 54,
   "metadata": {},
   "outputs": [
    {
     "data": {
      "text/plain": [
       "((998780, 2), (75786, 2), (79812, 2))"
      ]
     },
     "execution_count": 54,
     "metadata": {},
     "output_type": "execute_result"
    }
   ],
   "source": [
    "Y_train.shape, Y_valid.shape, Y_test.shape"
   ]
  },
  {
   "attachments": {},
   "cell_type": "markdown",
   "metadata": {},
   "source": [
    "2. test_data에서 game_id = 3773689는 score와 concede가 둘 다 true인 데이터가 존재해서 해당 경기 데이터 제거되었는지 확인"
   ]
  },
  {
   "cell_type": "code",
   "execution_count": 55,
   "metadata": {},
   "outputs": [
    {
     "name": "stdout",
     "output_type": "stream",
     "text": [
      "Y_train  scores  concedes\n",
      "False   False       983349\n",
      "True    False        13272\n",
      "False   True          2159\n",
      "Name: count, dtype: int64 \n",
      "\n",
      "Y_valid  scores  concedes\n",
      "False   False       74776\n",
      "True    False         858\n",
      "False   True          152\n",
      "Name: count, dtype: int64 \n",
      "\n",
      "Y_test  scores  concedes\n",
      "False   False       78735\n",
      "True    False         940\n",
      "False   True          137\n",
      "Name: count, dtype: int64\n"
     ]
    }
   ],
   "source": [
    "print(\"Y_train \",Y_train.value_counts(),'\\n')\n",
    "print(\"Y_valid \",Y_valid.value_counts(),'\\n')\n",
    "#test데이터에는 둘다 score=true & concede=true인 데이터는 존재X\n",
    "print(\"Y_test \",Y_test.value_counts())"
   ]
  },
  {
   "attachments": {},
   "cell_type": "markdown",
   "metadata": {},
   "source": [
    "3. 동일 작업없이 미리 데이터 저장하기"
   ]
  },
  {
   "cell_type": "code",
   "execution_count": 56,
   "metadata": {},
   "outputs": [],
   "source": [
    "X_train.to_csv('./soccer_binary_data/train/X_train')\n",
    "Y_train.to_csv('./soccer_binary_data/train/Y_train')"
   ]
  },
  {
   "cell_type": "code",
   "execution_count": 57,
   "metadata": {},
   "outputs": [],
   "source": [
    "X_valid.to_csv('./soccer_binary_data/valid/X_valid')\n",
    "Y_valid.to_csv('./soccer_binary_data/valid/Y_valid')"
   ]
  },
  {
   "cell_type": "code",
   "execution_count": 58,
   "metadata": {},
   "outputs": [],
   "source": [
    "X_test.to_csv('./soccer_binary_data/test/X_test')\n",
    "Y_test.to_csv('./soccer_binary_data/test/Y_test')"
   ]
  },
  {
   "attachments": {},
   "cell_type": "markdown",
   "metadata": {},
   "source": [
    "4. 현재 이기고 있는 상황 / 비기고 있는 상황 / 지고 있는 상황을 categorical feature로 추가\n",
    "\n",
    "-기존 goalscore=[-8,8]의 수치형 데이터가 존재하는데, 본 연구에서는 추가적인 feature를 사용하기 위해 goalscore를 활용하여  승/패/무의 categorical data로 추가"
   ]
  },
  {
   "cell_type": "code",
   "execution_count": 59,
   "metadata": {},
   "outputs": [],
   "source": [
    "def categorical_goal(X):\n",
    "    except_feature = ['goalscore_team', 'goalscore_opponent', 'goalscore_diff']\n",
    "    for except_col in except_feature:\n",
    "    #카테고리로 넣었을 때는, 패무승 중인 경우 3가지로 구분해서 feature를 추가\n",
    "        if except_col=='goalscore_diff':\n",
    "            #기존 수치형데이터인 득실차는 유지하고\n",
    "            #새로운 카테고리 승/무/패인 상황을 추가함\n",
    "            cate = \"cate_\" + except_col\n",
    "            for i, value in tqdm.tqdm(enumerate(X[except_col]),desc='lose:0 equal:1 win:2'):\n",
    "                if value<0:\n",
    "                    X.loc[i,cate] = 0\n",
    "                elif value==0:\n",
    "                    X.loc[i,cate] = 1\n",
    "                else:\n",
    "                    X.loc[i,cate] = 2\n",
    "                    \n",
    "        X[except_col] = X[except_col].astype('float64')\n",
    "                    \n",
    "    return X"
   ]
  },
  {
   "cell_type": "code",
   "execution_count": 60,
   "metadata": {},
   "outputs": [],
   "source": [
    "#승/무/패인 상황을 categorical호 집어넣는 데이터 -> new_c_train & new_c_test\n",
    "#본 연구에서는 성능이 좀 더 떨어지므로 해당 feature는 사용하진 않음\n",
    "# categorical_goalscore_train = categorical_goal(X_train)\n",
    "# categorical_goalscore_valid = categorical_goal(X_valid)\n",
    "# categorical_goalscore_test = categorical_goal(X_test)"
   ]
  },
  {
   "attachments": {},
   "cell_type": "markdown",
   "metadata": {},
   "source": [
    "5. zone categorical data추가\n",
    "\n",
    "-기존 position데이터가 존재하지만, 각 위치를 구역(zone, grid)별로 만들어서 categorical data로 사용할 예정"
   ]
  },
  {
   "cell_type": "code",
   "execution_count": 61,
   "metadata": {},
   "outputs": [],
   "source": [
    "def get_zone_index(x, y):\n",
    "    zone_width = 108/12  # zone의 너비\n",
    "    zone_height = 72/8  # zone의 높이\n",
    "\n",
    "    # x좌표가 속하는 zone의 인덱스 계산\n",
    "    zone_col = int(x // zone_width)\n",
    "    if zone_col == 12:  # 경계 체크\n",
    "        print(\"sadas\")\n",
    "        zone_col -= 1\n",
    "\n",
    "    # y좌표가 속하는 zone의 인덱스 계산\n",
    "    zone_row = int(y // zone_height)\n",
    "    if zone_row == 8:  # 경계 체크\n",
    "        zone_row -= 1\n",
    "\n",
    "    # zone의 인덱스를 반환\n",
    "    return zone_row * 12 + zone_col"
   ]
  },
  {
   "cell_type": "code",
   "execution_count": 62,
   "metadata": {},
   "outputs": [],
   "source": [
    "def location_zone(X):\n",
    "    position_feature = [['start_x_a0','start_y_a0'],['start_x_a1','start_y_a1'],\n",
    "                        ['start_x_a2','start_y_a2'],['end_x_a0','end_y_a0'],\n",
    "                        ['end_x_a1','end_y_a1'],['end_x_a2','end_y_a2']]\n",
    "    \n",
    "    for x_col,y_col in position_feature:\n",
    "        #기존 수치형데이터인 위치데이터는 유지하고\n",
    "        #새로운 zone feature을 추가함\n",
    "        col_name = 'zone_' + x_col[-2:]\n",
    "        for i,(x_val, y_val) in tqdm.tqdm(enumerate(zip(X[x_col],X[y_col])),desc='location discrete by zone'):\n",
    "            X.loc[i,col_name] = get_zone_index(x_val,y_val)\n",
    "            \n",
    "    return X"
   ]
  },
  {
   "cell_type": "code",
   "execution_count": 63,
   "metadata": {},
   "outputs": [],
   "source": [
    "# location_train = location_zone(X_train)\n",
    "# location_valid = location_zone(X_valid)\n",
    "# location_test = location_zone(X_test)"
   ]
  },
  {
   "attachments": {},
   "cell_type": "markdown",
   "metadata": {},
   "source": [
    "## 이진분류뿐 아니라 다중 분류를 활용하기 위해 label=0/1/2인 multi_data를 만듬"
   ]
  },
  {
   "cell_type": "code",
   "execution_count": 64,
   "metadata": {},
   "outputs": [],
   "source": [
    "multi_X_train = pd.read_csv('./soccer_binary_data/train/X_train',index_col=0)\n",
    "multi_Y_train = pd.read_csv(\"./soccer_binary_data/train/Y_train\",index_col=0)           \n",
    "\n",
    "multi_X_valid = pd.read_csv('./soccer_binary_data/valid/X_valid',index_col=0)\n",
    "multi_Y_valid = pd.read_csv(\"./soccer_binary_data/valid/Y_valid\",index_col=0)           \n",
    "\n",
    "multi_X_test = pd.read_csv('./soccer_binary_data/test/X_test',index_col=0)\n",
    "multi_Y_test = pd.read_csv(\"./soccer_binary_data/test/Y_test\",index_col=0)  "
   ]
  },
  {
   "cell_type": "code",
   "execution_count": 65,
   "metadata": {},
   "outputs": [
    {
     "data": {
      "text/plain": [
       "((998780, 154),\n",
       " (998780, 2),\n",
       " (75786, 154),\n",
       " (75786, 2),\n",
       " (79812, 154),\n",
       " (79812, 2))"
      ]
     },
     "execution_count": 65,
     "metadata": {},
     "output_type": "execute_result"
    }
   ],
   "source": [
    "multi_X_train.shape, multi_Y_train.shape, multi_X_valid.shape, multi_Y_valid.shape, multi_X_test.shape, multi_Y_test.shape"
   ]
  },
  {
   "cell_type": "code",
   "execution_count": 66,
   "metadata": {},
   "outputs": [],
   "source": [
    "def multi_class(Y):\n",
    "    multi_label = pd.DataFrame(columns=['label'])\n",
    "    \n",
    "    for i in tqdm.tqdm(range(len(Y))):\n",
    "        if (Y.loc[i,'scores']==False) & (Y.loc[i,'concedes']==False):\n",
    "            multi_label.loc[i,'label'] = 0\n",
    "        elif (Y.loc[i,'scores']==True) & (Y.loc[i,'concedes']==False):\n",
    "            multi_label.loc[i,'label'] = 1\n",
    "        elif (Y.loc[i,'scores']==False) & (Y.loc[i,'concedes']==True):\n",
    "            multi_label.loc[i,'label'] = 2\n",
    "        else:\n",
    "            print(\"error : 'score=True, concede=True' is impossible\")\n",
    "            exit()\n",
    "    return multi_label"
   ]
  },
  {
   "cell_type": "code",
   "execution_count": null,
   "metadata": {},
   "outputs": [],
   "source": [
    "multi_Y_train = multi_class(multi_Y_train)\n",
    "multi_Y_valid = multi_class(multi_Y_valid)\n",
    "multi_Y_test = multi_class(multi_Y_test)"
   ]
  },
  {
   "cell_type": "code",
   "execution_count": null,
   "metadata": {},
   "outputs": [],
   "source": [
    "multi_Y_train = multi_class(multi_Y_train)\n",
    "multi_Y_valid = multi_class(multi_Y_valid)\n",
    "multi_Y_test = multi_class(multi_Y_test)"
   ]
  },
  {
   "cell_type": "code",
   "execution_count": null,
   "metadata": {},
   "outputs": [],
   "source": [
    "multi_X_train.to_csv('./soccer_multiclass_data/train/X_train')\n",
    "multi_Y_train.to_csv('./soccer_multiclass_data/train/Y_train')\n",
    "\n",
    "multi_X_valid.to_csv('./soccer_multiclass_data/valid/X_valid')\n",
    "multi_Y_valid.to_csv('./soccer_multiclass_data/valid/Y_valid')\n",
    "\n",
    "multi_X_test.to_csv('./soccer_multiclass_data/test/X_test')\n",
    "multi_Y_test.to_csv('./soccer_multiclass_data/test/Y_test')"
   ]
  }
 ],
 "metadata": {
  "kernelspec": {
   "display_name": "base",
   "language": "python",
   "name": "python3"
  },
  "language_info": {
   "codemirror_mode": {
    "name": "ipython",
    "version": 3
   },
   "file_extension": ".py",
   "mimetype": "text/x-python",
   "name": "python",
   "nbconvert_exporter": "python",
   "pygments_lexer": "ipython3",
   "version": "3.10.11"
  },
  "orig_nbformat": 4,
  "vscode": {
   "interpreter": {
    "hash": "7e11559585671b6ea0e062e4c69e511eac2837c082bc5a0530b68ddc7f355068"
   }
  }
 },
 "nbformat": 4,
 "nbformat_minor": 2
}
